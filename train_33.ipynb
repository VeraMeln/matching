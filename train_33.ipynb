{
 "cells": [
  {
   "cell_type": "markdown",
   "id": "f8aad8b6-2b50-4bed-ab62-df9422ca481d",
   "metadata": {},
   "source": [
    "# смотрим на характеристику 33 в трейне и на валидации"
   ]
  },
  {
   "cell_type": "code",
   "execution_count": 1,
   "id": "dbe94291-6dc3-4b98-96c5-d98a375833f9",
   "metadata": {},
   "outputs": [],
   "source": [
    "import pandas as pd"
   ]
  },
  {
   "cell_type": "code",
   "execution_count": 12,
   "id": "567e9637-b68a-49b5-90fb-da816faf38f6",
   "metadata": {},
   "outputs": [],
   "source": [
    "base = pd.read_csv('datasets/base.csv', index_col=0)"
   ]
  },
  {
   "cell_type": "markdown",
   "id": "8a82be98-e82e-4a8a-818b-61eecfef9d38",
   "metadata": {},
   "source": [
    "## посмотрим train"
   ]
  },
  {
   "cell_type": "code",
   "execution_count": 2,
   "id": "54145039-43e8-42b5-a671-5db80f7910c1",
   "metadata": {},
   "outputs": [
    {
     "name": "stdout",
     "output_type": "stream",
     "text": [
      "CPU times: total: 703 ms\n",
      "Wall time: 698 ms\n"
     ]
    }
   ],
   "source": [
    "%%time\n",
    "train = pd.read_csv('datasets/train.csv', index_col=0)"
   ]
  },
  {
   "cell_type": "code",
   "execution_count": 3,
   "id": "1caf3804-bad3-4da9-aaa1-777e21051aae",
   "metadata": {},
   "outputs": [
    {
     "data": {
      "text/plain": [
       "1568"
      ]
     },
     "execution_count": 3,
     "metadata": {},
     "output_type": "execute_result"
    }
   ],
   "source": [
    "train['33'].nunique()"
   ]
  },
  {
   "cell_type": "code",
   "execution_count": 5,
   "id": "777c479a-b703-46ff-a6fd-a49c53238b1c",
   "metadata": {},
   "outputs": [
    {
     "data": {
      "text/plain": [
       "(-1044.1356621947534, -137.64675674083605)"
      ]
     },
     "execution_count": 5,
     "metadata": {},
     "output_type": "execute_result"
    }
   ],
   "source": [
    "train['33'].min(), train['33'].max()"
   ]
  },
  {
   "cell_type": "markdown",
   "id": "ce76c3d1-aaaf-4c01-8d13-a0d969bdb16a",
   "metadata": {},
   "source": [
    "диапазон разброса внутри трейна такой же, как в base"
   ]
  },
  {
   "cell_type": "markdown",
   "id": "ef3dd742-fcd2-498d-af1a-010d297f73b9",
   "metadata": {},
   "source": [
    "## посмотрим validation"
   ]
  },
  {
   "cell_type": "code",
   "execution_count": 6,
   "id": "bad0c65b-b0f2-4d66-b60c-9151094c1cc4",
   "metadata": {},
   "outputs": [
    {
     "name": "stdout",
     "output_type": "stream",
     "text": [
      "CPU times: total: 688 ms\n",
      "Wall time: 689 ms\n"
     ]
    }
   ],
   "source": [
    "%%time\n",
    "validation = pd.read_csv('datasets/validation.csv', index_col=0)"
   ]
  },
  {
   "cell_type": "code",
   "execution_count": 7,
   "id": "4c6463c9-a0a3-4601-a8ec-2844d7fe62a8",
   "metadata": {},
   "outputs": [
    {
     "data": {
      "text/plain": [
       "1581"
      ]
     },
     "execution_count": 7,
     "metadata": {},
     "output_type": "execute_result"
    }
   ],
   "source": [
    "validation['33'].nunique()"
   ]
  },
  {
   "cell_type": "code",
   "execution_count": 8,
   "id": "689e8c01-0c60-4d01-ad21-13e0f437a33a",
   "metadata": {},
   "outputs": [
    {
     "data": {
      "text/plain": [
       "(-1044.1356621947534, -137.64675674083605)"
      ]
     },
     "execution_count": 8,
     "metadata": {},
     "output_type": "execute_result"
    }
   ],
   "source": [
    "validation['33'].min(), validation['33'].max()"
   ]
  },
  {
   "cell_type": "markdown",
   "id": "7ac486d8-809d-4949-b81f-e2299843446f",
   "metadata": {},
   "source": [
    "# добавляем столбец с классом"
   ]
  },
  {
   "cell_type": "code",
   "execution_count": 14,
   "id": "fe8647c9-6e33-492b-bef3-b88f51a371a9",
   "metadata": {},
   "outputs": [
    {
     "data": {
      "text/plain": [
       "181.53295447841418"
      ]
     },
     "execution_count": 14,
     "metadata": {},
     "output_type": "execute_result"
    }
   ],
   "source": [
    "delta = (base['33'].max() - base['33'].min()) / 5\n",
    "delta"
   ]
  },
  {
   "cell_type": "code",
   "execution_count": 26,
   "id": "6bb0b935-892b-4600-8e86-4a49660ca924",
   "metadata": {},
   "outputs": [],
   "source": [
    "train['class'] = abs(train['33'] // delta)"
   ]
  },
  {
   "cell_type": "code",
   "execution_count": 27,
   "id": "fba424c6-d7ae-4ef0-b634-71a0d586d80b",
   "metadata": {},
   "outputs": [
    {
     "data": {
      "text/html": [
       "<div>\n",
       "<style scoped>\n",
       "    .dataframe tbody tr th:only-of-type {\n",
       "        vertical-align: middle;\n",
       "    }\n",
       "\n",
       "    .dataframe tbody tr th {\n",
       "        vertical-align: top;\n",
       "    }\n",
       "\n",
       "    .dataframe thead th {\n",
       "        text-align: right;\n",
       "    }\n",
       "</style>\n",
       "<table border=\"1\" class=\"dataframe\">\n",
       "  <thead>\n",
       "    <tr style=\"text-align: right;\">\n",
       "      <th></th>\n",
       "      <th>0</th>\n",
       "      <th>1</th>\n",
       "      <th>2</th>\n",
       "      <th>3</th>\n",
       "      <th>4</th>\n",
       "      <th>5</th>\n",
       "      <th>6</th>\n",
       "      <th>7</th>\n",
       "      <th>8</th>\n",
       "      <th>9</th>\n",
       "      <th>...</th>\n",
       "      <th>64</th>\n",
       "      <th>65</th>\n",
       "      <th>66</th>\n",
       "      <th>67</th>\n",
       "      <th>68</th>\n",
       "      <th>69</th>\n",
       "      <th>70</th>\n",
       "      <th>71</th>\n",
       "      <th>Target</th>\n",
       "      <th>class</th>\n",
       "    </tr>\n",
       "    <tr>\n",
       "      <th>Id</th>\n",
       "      <th></th>\n",
       "      <th></th>\n",
       "      <th></th>\n",
       "      <th></th>\n",
       "      <th></th>\n",
       "      <th></th>\n",
       "      <th></th>\n",
       "      <th></th>\n",
       "      <th></th>\n",
       "      <th></th>\n",
       "      <th></th>\n",
       "      <th></th>\n",
       "      <th></th>\n",
       "      <th></th>\n",
       "      <th></th>\n",
       "      <th></th>\n",
       "      <th></th>\n",
       "      <th></th>\n",
       "      <th></th>\n",
       "      <th></th>\n",
       "      <th></th>\n",
       "    </tr>\n",
       "  </thead>\n",
       "  <tbody>\n",
       "    <tr>\n",
       "      <th>0-query</th>\n",
       "      <td>-53.882748</td>\n",
       "      <td>17.971436</td>\n",
       "      <td>-42.117104</td>\n",
       "      <td>-183.93668</td>\n",
       "      <td>187.517490</td>\n",
       "      <td>-87.144930</td>\n",
       "      <td>-347.360606</td>\n",
       "      <td>38.307602</td>\n",
       "      <td>109.085560</td>\n",
       "      <td>30.413513</td>\n",
       "      <td>...</td>\n",
       "      <td>-155.80257</td>\n",
       "      <td>-101.965943</td>\n",
       "      <td>65.903790</td>\n",
       "      <td>34.457500</td>\n",
       "      <td>62.642094</td>\n",
       "      <td>134.763600</td>\n",
       "      <td>-415.750254</td>\n",
       "      <td>-25.958572</td>\n",
       "      <td>675816-base</td>\n",
       "      <td>2.0</td>\n",
       "    </tr>\n",
       "    <tr>\n",
       "      <th>1-query</th>\n",
       "      <td>-87.776370</td>\n",
       "      <td>6.806268</td>\n",
       "      <td>-32.054546</td>\n",
       "      <td>-177.26039</td>\n",
       "      <td>120.803330</td>\n",
       "      <td>-83.810590</td>\n",
       "      <td>-94.572749</td>\n",
       "      <td>-78.433090</td>\n",
       "      <td>124.915900</td>\n",
       "      <td>140.331070</td>\n",
       "      <td>...</td>\n",
       "      <td>-151.69771</td>\n",
       "      <td>-1.638704</td>\n",
       "      <td>68.170876</td>\n",
       "      <td>25.096191</td>\n",
       "      <td>89.974976</td>\n",
       "      <td>130.589630</td>\n",
       "      <td>-1035.092211</td>\n",
       "      <td>-51.276833</td>\n",
       "      <td>366656-base</td>\n",
       "      <td>2.0</td>\n",
       "    </tr>\n",
       "    <tr>\n",
       "      <th>2-query</th>\n",
       "      <td>-49.979565</td>\n",
       "      <td>3.841486</td>\n",
       "      <td>-116.118590</td>\n",
       "      <td>-180.40198</td>\n",
       "      <td>190.128430</td>\n",
       "      <td>-50.837620</td>\n",
       "      <td>26.943937</td>\n",
       "      <td>-30.447489</td>\n",
       "      <td>125.771164</td>\n",
       "      <td>211.607820</td>\n",
       "      <td>...</td>\n",
       "      <td>-169.14620</td>\n",
       "      <td>82.144186</td>\n",
       "      <td>66.008220</td>\n",
       "      <td>18.400496</td>\n",
       "      <td>212.409730</td>\n",
       "      <td>121.931470</td>\n",
       "      <td>-1074.464888</td>\n",
       "      <td>-22.547178</td>\n",
       "      <td>1447819-base</td>\n",
       "      <td>6.0</td>\n",
       "    </tr>\n",
       "    <tr>\n",
       "      <th>3-query</th>\n",
       "      <td>-47.810562</td>\n",
       "      <td>9.086598</td>\n",
       "      <td>-115.401695</td>\n",
       "      <td>-121.01136</td>\n",
       "      <td>94.652840</td>\n",
       "      <td>-109.255410</td>\n",
       "      <td>-775.150134</td>\n",
       "      <td>79.186520</td>\n",
       "      <td>124.003100</td>\n",
       "      <td>242.650650</td>\n",
       "      <td>...</td>\n",
       "      <td>-145.41675</td>\n",
       "      <td>93.990981</td>\n",
       "      <td>64.131350</td>\n",
       "      <td>106.061920</td>\n",
       "      <td>83.178760</td>\n",
       "      <td>118.277725</td>\n",
       "      <td>-1074.464888</td>\n",
       "      <td>-19.902788</td>\n",
       "      <td>1472602-base</td>\n",
       "      <td>6.0</td>\n",
       "    </tr>\n",
       "    <tr>\n",
       "      <th>4-query</th>\n",
       "      <td>-79.632126</td>\n",
       "      <td>14.442886</td>\n",
       "      <td>-58.903397</td>\n",
       "      <td>-147.05254</td>\n",
       "      <td>57.127068</td>\n",
       "      <td>-16.239529</td>\n",
       "      <td>-321.317964</td>\n",
       "      <td>45.984676</td>\n",
       "      <td>125.941284</td>\n",
       "      <td>103.392670</td>\n",
       "      <td>...</td>\n",
       "      <td>-196.09207</td>\n",
       "      <td>-117.626337</td>\n",
       "      <td>66.926220</td>\n",
       "      <td>42.456170</td>\n",
       "      <td>77.621765</td>\n",
       "      <td>92.479930</td>\n",
       "      <td>-1074.464888</td>\n",
       "      <td>-21.149351</td>\n",
       "      <td>717819-base</td>\n",
       "      <td>5.0</td>\n",
       "    </tr>\n",
       "  </tbody>\n",
       "</table>\n",
       "<p>5 rows × 74 columns</p>\n",
       "</div>"
      ],
      "text/plain": [
       "                 0          1           2          3           4           5  \\\n",
       "Id                                                                             \n",
       "0-query -53.882748  17.971436  -42.117104 -183.93668  187.517490  -87.144930   \n",
       "1-query -87.776370   6.806268  -32.054546 -177.26039  120.803330  -83.810590   \n",
       "2-query -49.979565   3.841486 -116.118590 -180.40198  190.128430  -50.837620   \n",
       "3-query -47.810562   9.086598 -115.401695 -121.01136   94.652840 -109.255410   \n",
       "4-query -79.632126  14.442886  -58.903397 -147.05254   57.127068  -16.239529   \n",
       "\n",
       "                  6          7           8           9  ...         64  \\\n",
       "Id                                                      ...              \n",
       "0-query -347.360606  38.307602  109.085560   30.413513  ... -155.80257   \n",
       "1-query  -94.572749 -78.433090  124.915900  140.331070  ... -151.69771   \n",
       "2-query   26.943937 -30.447489  125.771164  211.607820  ... -169.14620   \n",
       "3-query -775.150134  79.186520  124.003100  242.650650  ... -145.41675   \n",
       "4-query -321.317964  45.984676  125.941284  103.392670  ... -196.09207   \n",
       "\n",
       "                 65         66          67          68          69  \\\n",
       "Id                                                                   \n",
       "0-query -101.965943  65.903790   34.457500   62.642094  134.763600   \n",
       "1-query   -1.638704  68.170876   25.096191   89.974976  130.589630   \n",
       "2-query   82.144186  66.008220   18.400496  212.409730  121.931470   \n",
       "3-query   93.990981  64.131350  106.061920   83.178760  118.277725   \n",
       "4-query -117.626337  66.926220   42.456170   77.621765   92.479930   \n",
       "\n",
       "                  70         71        Target  class  \n",
       "Id                                                    \n",
       "0-query  -415.750254 -25.958572   675816-base    2.0  \n",
       "1-query -1035.092211 -51.276833   366656-base    2.0  \n",
       "2-query -1074.464888 -22.547178  1447819-base    6.0  \n",
       "3-query -1074.464888 -19.902788  1472602-base    6.0  \n",
       "4-query -1074.464888 -21.149351   717819-base    5.0  \n",
       "\n",
       "[5 rows x 74 columns]"
      ]
     },
     "execution_count": 27,
     "metadata": {},
     "output_type": "execute_result"
    }
   ],
   "source": [
    "train.head()"
   ]
  },
  {
   "cell_type": "code",
   "execution_count": 28,
   "id": "f6310fd1-5b38-4796-85f3-132bb4b19f09",
   "metadata": {},
   "outputs": [
    {
     "data": {
      "text/plain": [
       "class\n",
       "5.0    23528\n",
       "3.0    20667\n",
       "2.0    15783\n",
       "4.0    15170\n",
       "6.0    14181\n",
       "1.0    10671\n",
       "Name: count, dtype: int64"
      ]
     },
     "execution_count": 28,
     "metadata": {},
     "output_type": "execute_result"
    }
   ],
   "source": [
    "train['class'].value_counts()"
   ]
  },
  {
   "cell_type": "code",
   "execution_count": 29,
   "id": "56cffe7e-9486-4454-8e8c-1f74d5774b44",
   "metadata": {},
   "outputs": [
    {
     "name": "stdout",
     "output_type": "stream",
     "text": [
      "2.0 -362.98512080354766 -181.86738037098104\n",
      "6.0 -1044.1356621947534 -907.9479196157722\n",
      "5.0 -907.535054542443 -726.3203587341495\n",
      "4.0 -725.9950268015127 -544.9951684392474\n",
      "3.0 -544.5988144251794 -363.3456839409808\n",
      "1.0 -181.49777516094835 -137.64675674083605\n"
     ]
    }
   ],
   "source": [
    "for class_num in train['class'].unique():\n",
    "    print(class_num, \n",
    "          train[train['class'] == class_num]['33'].min(), \n",
    "          train[train['class'] == class_num]['33'].max()\n",
    "         )"
   ]
  },
  {
   "cell_type": "code",
   "execution_count": 30,
   "id": "b13640a1-1d40-4d47-93f8-e4ff97844375",
   "metadata": {},
   "outputs": [
    {
     "data": {
      "text/plain": [
       "class\n",
       "5.0    23376\n",
       "3.0    20703\n",
       "2.0    15709\n",
       "4.0    15102\n",
       "6.0    14415\n",
       "1.0    10695\n",
       "Name: count, dtype: int64"
      ]
     },
     "execution_count": 30,
     "metadata": {},
     "output_type": "execute_result"
    }
   ],
   "source": [
    "validation['class'] = abs(validation['33'] // delta)\n",
    "validation['class'].value_counts()\n"
   ]
  },
  {
   "cell_type": "code",
   "execution_count": 31,
   "id": "b3ec2d59-07b7-4613-93a9-c1f48f0e88d1",
   "metadata": {},
   "outputs": [
    {
     "name": "stdout",
     "output_type": "stream",
     "text": [
      "2.0 -362.98512080354766 -181.86738037098104\n",
      "6.0 -1044.1356621947534 -907.9479196157722\n",
      "4.0 -725.9950268015127 -544.9500348276199\n",
      "3.0 -544.5988144251794 -363.3456839409808\n",
      "5.0 -907.535054542443 -726.3203587341495\n",
      "1.0 -181.38011023570863 -137.64675674083605\n"
     ]
    }
   ],
   "source": [
    "for class_num in validation['class'].unique():\n",
    "    print(class_num, \n",
    "          validation[validation['class'] == class_num]['33'].min(), \n",
    "          validation[validation['class'] == class_num]['33'].max()\n",
    "         )"
   ]
  },
  {
   "cell_type": "code",
   "execution_count": null,
   "id": "4c57dfe4-bed4-4471-a685-fbe428b2e75d",
   "metadata": {},
   "outputs": [],
   "source": []
  }
 ],
 "metadata": {
  "kernelspec": {
   "display_name": "Python 3 (ipykernel)",
   "language": "python",
   "name": "python3"
  },
  "language_info": {
   "codemirror_mode": {
    "name": "ipython",
    "version": 3
   },
   "file_extension": ".py",
   "mimetype": "text/x-python",
   "name": "python",
   "nbconvert_exporter": "python",
   "pygments_lexer": "ipython3",
   "version": "3.11.4"
  }
 },
 "nbformat": 4,
 "nbformat_minor": 5
}
