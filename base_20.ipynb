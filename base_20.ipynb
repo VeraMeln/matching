{
 "cells": [
  {
   "cell_type": "code",
   "execution_count": 1,
   "id": "8f1bf622",
   "metadata": {},
   "outputs": [],
   "source": [
    "import faiss\n",
    "import pandas as pd\n",
    "import datetime as dt\n",
    "import numpy as np\n",
    "from tqdm.notebook import tqdm"
   ]
  },
  {
   "cell_type": "code",
   "execution_count": 2,
   "id": "cb655105",
   "metadata": {},
   "outputs": [],
   "source": [
    "path = r\"C:\\Users\\Admin\\Documents\\УЧЕБА\\20 мастерская 2\\notebooks\\datasets\\base_2.0.csv\""
   ]
  },
  {
   "cell_type": "code",
   "execution_count": 3,
   "id": "75dd2809",
   "metadata": {},
   "outputs": [
    {
     "data": {
      "text/plain": [
       "4.430881023406982"
      ]
     },
     "execution_count": 3,
     "metadata": {},
     "output_type": "execute_result"
    }
   ],
   "source": [
    "start_time = dt.datetime.now().timestamp()\n",
    "base_2_0 = pd.read_csv(path, index_col=0)\n",
    "dt.datetime.now().timestamp() - start_time"
   ]
  },
  {
   "cell_type": "code",
   "execution_count": 4,
   "id": "34cee2ae",
   "metadata": {},
   "outputs": [
    {
     "data": {
      "text/html": [
       "<div>\n",
       "<style scoped>\n",
       "    .dataframe tbody tr th:only-of-type {\n",
       "        vertical-align: middle;\n",
       "    }\n",
       "\n",
       "    .dataframe tbody tr th {\n",
       "        vertical-align: top;\n",
       "    }\n",
       "\n",
       "    .dataframe thead th {\n",
       "        text-align: right;\n",
       "    }\n",
       "</style>\n",
       "<table border=\"1\" class=\"dataframe\">\n",
       "  <thead>\n",
       "    <tr style=\"text-align: right;\">\n",
       "      <th></th>\n",
       "      <th>0</th>\n",
       "      <th>1</th>\n",
       "      <th>2</th>\n",
       "      <th>3</th>\n",
       "      <th>4</th>\n",
       "      <th>5</th>\n",
       "      <th>6</th>\n",
       "      <th>7</th>\n",
       "      <th>8</th>\n",
       "      <th>9</th>\n",
       "      <th>...</th>\n",
       "      <th>63</th>\n",
       "      <th>64</th>\n",
       "      <th>65</th>\n",
       "      <th>66</th>\n",
       "      <th>67</th>\n",
       "      <th>68</th>\n",
       "      <th>69</th>\n",
       "      <th>70</th>\n",
       "      <th>71</th>\n",
       "      <th>class</th>\n",
       "    </tr>\n",
       "    <tr>\n",
       "      <th>Id</th>\n",
       "      <th></th>\n",
       "      <th></th>\n",
       "      <th></th>\n",
       "      <th></th>\n",
       "      <th></th>\n",
       "      <th></th>\n",
       "      <th></th>\n",
       "      <th></th>\n",
       "      <th></th>\n",
       "      <th></th>\n",
       "      <th></th>\n",
       "      <th></th>\n",
       "      <th></th>\n",
       "      <th></th>\n",
       "      <th></th>\n",
       "      <th></th>\n",
       "      <th></th>\n",
       "      <th></th>\n",
       "      <th></th>\n",
       "      <th></th>\n",
       "      <th></th>\n",
       "    </tr>\n",
       "  </thead>\n",
       "  <tbody>\n",
       "    <tr>\n",
       "      <th>1-base</th>\n",
       "      <td>-34.562202</td>\n",
       "      <td>13.332763</td>\n",
       "      <td>-69.78761</td>\n",
       "      <td>-166.53348</td>\n",
       "      <td>57.680607</td>\n",
       "      <td>-86.098370</td>\n",
       "      <td>-85.076666</td>\n",
       "      <td>-35.637436</td>\n",
       "      <td>119.718636</td>\n",
       "      <td>195.234190</td>\n",
       "      <td>...</td>\n",
       "      <td>41.100000</td>\n",
       "      <td>-157.82940</td>\n",
       "      <td>-94.446806</td>\n",
       "      <td>68.20211</td>\n",
       "      <td>24.346846</td>\n",
       "      <td>179.93793</td>\n",
       "      <td>116.83400</td>\n",
       "      <td>-84.888941</td>\n",
       "      <td>-59.524610</td>\n",
       "      <td>2.0</td>\n",
       "    </tr>\n",
       "    <tr>\n",
       "      <th>15-base</th>\n",
       "      <td>-133.391540</td>\n",
       "      <td>4.454095</td>\n",
       "      <td>-127.94336</td>\n",
       "      <td>-123.74695</td>\n",
       "      <td>143.213870</td>\n",
       "      <td>-38.265465</td>\n",
       "      <td>-224.939111</td>\n",
       "      <td>-84.442410</td>\n",
       "      <td>127.770160</td>\n",
       "      <td>50.926636</td>\n",
       "      <td>...</td>\n",
       "      <td>54.980003</td>\n",
       "      <td>-242.59491</td>\n",
       "      <td>103.561070</td>\n",
       "      <td>70.54476</td>\n",
       "      <td>-54.223568</td>\n",
       "      <td>142.79533</td>\n",
       "      <td>93.46864</td>\n",
       "      <td>-1074.464888</td>\n",
       "      <td>-108.886154</td>\n",
       "      <td>2.0</td>\n",
       "    </tr>\n",
       "  </tbody>\n",
       "</table>\n",
       "<p>2 rows × 73 columns</p>\n",
       "</div>"
      ],
      "text/plain": [
       "                  0          1          2          3           4          5  \\\n",
       "Id                                                                            \n",
       "1-base   -34.562202  13.332763  -69.78761 -166.53348   57.680607 -86.098370   \n",
       "15-base -133.391540   4.454095 -127.94336 -123.74695  143.213870 -38.265465   \n",
       "\n",
       "                  6          7           8           9  ...         63  \\\n",
       "Id                                                      ...              \n",
       "1-base   -85.076666 -35.637436  119.718636  195.234190  ...  41.100000   \n",
       "15-base -224.939111 -84.442410  127.770160   50.926636  ...  54.980003   \n",
       "\n",
       "                64          65        66         67         68         69  \\\n",
       "Id                                                                          \n",
       "1-base  -157.82940  -94.446806  68.20211  24.346846  179.93793  116.83400   \n",
       "15-base -242.59491  103.561070  70.54476 -54.223568  142.79533   93.46864   \n",
       "\n",
       "                  70          71  class  \n",
       "Id                                       \n",
       "1-base    -84.888941  -59.524610    2.0  \n",
       "15-base -1074.464888 -108.886154    2.0  \n",
       "\n",
       "[2 rows x 73 columns]"
      ]
     },
     "execution_count": 4,
     "metadata": {},
     "output_type": "execute_result"
    }
   ],
   "source": [
    "base_2_0.head(2)"
   ]
  },
  {
   "cell_type": "markdown",
   "id": "522dc495",
   "metadata": {},
   "source": [
    "### Create index"
   ]
  },
  {
   "cell_type": "code",
   "execution_count": 5,
   "id": "dcb2639c",
   "metadata": {},
   "outputs": [
    {
     "data": {
      "text/plain": [
       "0.005557060241699219"
      ]
     },
     "execution_count": 5,
     "metadata": {},
     "output_type": "execute_result"
    }
   ],
   "source": [
    "start_time = dt.datetime.now().timestamp()\n",
    "\n",
    "dims = base_2_0.shape[1]\n",
    "n_cells = 1\n",
    "# how many cells\n",
    "quantizer = faiss.IndexFlatL2(dims)\n",
    "idx_l2 = faiss.IndexIVFFlat(quantizer, dims, n_cells)\n",
    "\n",
    "dt.datetime.now().timestamp() - start_time"
   ]
  },
  {
   "cell_type": "code",
   "execution_count": 6,
   "id": "49dfed21",
   "metadata": {},
   "outputs": [
    {
     "data": {
      "text/plain": [
       "0.716101884841919"
      ]
     },
     "execution_count": 6,
     "metadata": {},
     "output_type": "execute_result"
    }
   ],
   "source": [
    "start_time = dt.datetime.now().timestamp()\n",
    "\n",
    "idx_l2.train(np.ascontiguousarray(base_2_0.values).astype('float32'))\n",
    "\n",
    "idx_l2.add(np.ascontiguousarray(base_2_0.values).astype('float32'))\n",
    "dt.datetime.now().timestamp() - start_time"
   ]
  },
  {
   "cell_type": "code",
   "execution_count": 7,
   "id": "1b7e33fd",
   "metadata": {},
   "outputs": [
    {
     "data": {
      "text/plain": [
       "632110"
      ]
     },
     "execution_count": 7,
     "metadata": {},
     "output_type": "execute_result"
    }
   ],
   "source": [
    "base_index = {k: v for k, v in enumerate(base_2_0.index.to_list())}\n",
    "len(base_index)"
   ]
  },
  {
   "cell_type": "markdown",
   "id": "d0e7498f",
   "metadata": {},
   "source": [
    "# Train"
   ]
  },
  {
   "cell_type": "code",
   "execution_count": 8,
   "id": "c2ee9315",
   "metadata": {},
   "outputs": [],
   "source": [
    "df_train = pd.read_csv(\"datasets/train_2.0.csv\", index_col=0)"
   ]
  },
  {
   "cell_type": "code",
   "execution_count": 9,
   "id": "271e3c63",
   "metadata": {},
   "outputs": [],
   "source": [
    "targets = df_train[\"Target\"]\n",
    "df_train.drop(\"Target\", axis=1, inplace=True)"
   ]
  },
  {
   "cell_type": "code",
   "execution_count": 10,
   "id": "fc6b5f65",
   "metadata": {},
   "outputs": [
    {
     "data": {
      "text/html": [
       "<div>\n",
       "<style scoped>\n",
       "    .dataframe tbody tr th:only-of-type {\n",
       "        vertical-align: middle;\n",
       "    }\n",
       "\n",
       "    .dataframe tbody tr th {\n",
       "        vertical-align: top;\n",
       "    }\n",
       "\n",
       "    .dataframe thead th {\n",
       "        text-align: right;\n",
       "    }\n",
       "</style>\n",
       "<table border=\"1\" class=\"dataframe\">\n",
       "  <thead>\n",
       "    <tr style=\"text-align: right;\">\n",
       "      <th></th>\n",
       "      <th>0</th>\n",
       "      <th>1</th>\n",
       "      <th>2</th>\n",
       "      <th>3</th>\n",
       "      <th>4</th>\n",
       "      <th>5</th>\n",
       "      <th>6</th>\n",
       "      <th>7</th>\n",
       "      <th>8</th>\n",
       "      <th>9</th>\n",
       "      <th>...</th>\n",
       "      <th>63</th>\n",
       "      <th>64</th>\n",
       "      <th>65</th>\n",
       "      <th>66</th>\n",
       "      <th>67</th>\n",
       "      <th>68</th>\n",
       "      <th>69</th>\n",
       "      <th>70</th>\n",
       "      <th>71</th>\n",
       "      <th>class</th>\n",
       "    </tr>\n",
       "    <tr>\n",
       "      <th>Id</th>\n",
       "      <th></th>\n",
       "      <th></th>\n",
       "      <th></th>\n",
       "      <th></th>\n",
       "      <th></th>\n",
       "      <th></th>\n",
       "      <th></th>\n",
       "      <th></th>\n",
       "      <th></th>\n",
       "      <th></th>\n",
       "      <th></th>\n",
       "      <th></th>\n",
       "      <th></th>\n",
       "      <th></th>\n",
       "      <th></th>\n",
       "      <th></th>\n",
       "      <th></th>\n",
       "      <th></th>\n",
       "      <th></th>\n",
       "      <th></th>\n",
       "      <th></th>\n",
       "    </tr>\n",
       "  </thead>\n",
       "  <tbody>\n",
       "    <tr>\n",
       "      <th>0-query</th>\n",
       "      <td>-53.882748</td>\n",
       "      <td>17.971436</td>\n",
       "      <td>-42.117104</td>\n",
       "      <td>-183.93668</td>\n",
       "      <td>187.51749</td>\n",
       "      <td>-87.144930</td>\n",
       "      <td>-347.360606</td>\n",
       "      <td>38.307602</td>\n",
       "      <td>109.08556</td>\n",
       "      <td>30.413513</td>\n",
       "      <td>...</td>\n",
       "      <td>70.107360</td>\n",
       "      <td>-155.80257</td>\n",
       "      <td>-101.965943</td>\n",
       "      <td>65.903790</td>\n",
       "      <td>34.457500</td>\n",
       "      <td>62.642094</td>\n",
       "      <td>134.76360</td>\n",
       "      <td>-415.750254</td>\n",
       "      <td>-25.958572</td>\n",
       "      <td>2.0</td>\n",
       "    </tr>\n",
       "    <tr>\n",
       "      <th>1-query</th>\n",
       "      <td>-87.776370</td>\n",
       "      <td>6.806268</td>\n",
       "      <td>-32.054546</td>\n",
       "      <td>-177.26039</td>\n",
       "      <td>120.80333</td>\n",
       "      <td>-83.810590</td>\n",
       "      <td>-94.572749</td>\n",
       "      <td>-78.433090</td>\n",
       "      <td>124.91590</td>\n",
       "      <td>140.331070</td>\n",
       "      <td>...</td>\n",
       "      <td>4.669178</td>\n",
       "      <td>-151.69771</td>\n",
       "      <td>-1.638704</td>\n",
       "      <td>68.170876</td>\n",
       "      <td>25.096191</td>\n",
       "      <td>89.974976</td>\n",
       "      <td>130.58963</td>\n",
       "      <td>-1035.092211</td>\n",
       "      <td>-51.276833</td>\n",
       "      <td>2.0</td>\n",
       "    </tr>\n",
       "    <tr>\n",
       "      <th>5-query</th>\n",
       "      <td>-92.844185</td>\n",
       "      <td>2.975510</td>\n",
       "      <td>-61.760483</td>\n",
       "      <td>-171.67546</td>\n",
       "      <td>144.79837</td>\n",
       "      <td>-58.685143</td>\n",
       "      <td>104.112909</td>\n",
       "      <td>75.844580</td>\n",
       "      <td>118.33623</td>\n",
       "      <td>81.981125</td>\n",
       "      <td>...</td>\n",
       "      <td>12.807585</td>\n",
       "      <td>-137.96362</td>\n",
       "      <td>86.282088</td>\n",
       "      <td>64.678535</td>\n",
       "      <td>64.527600</td>\n",
       "      <td>64.664440</td>\n",
       "      <td>126.91460</td>\n",
       "      <td>-800.428664</td>\n",
       "      <td>-30.197390</td>\n",
       "      <td>2.0</td>\n",
       "    </tr>\n",
       "    <tr>\n",
       "      <th>7-query</th>\n",
       "      <td>-59.506752</td>\n",
       "      <td>7.959120</td>\n",
       "      <td>21.068153</td>\n",
       "      <td>-142.99788</td>\n",
       "      <td>128.15799</td>\n",
       "      <td>-92.496300</td>\n",
       "      <td>-143.453758</td>\n",
       "      <td>10.710561</td>\n",
       "      <td>131.08679</td>\n",
       "      <td>71.491560</td>\n",
       "      <td>...</td>\n",
       "      <td>49.263610</td>\n",
       "      <td>-203.78833</td>\n",
       "      <td>-101.989379</td>\n",
       "      <td>67.291770</td>\n",
       "      <td>44.437595</td>\n",
       "      <td>45.183838</td>\n",
       "      <td>150.28853</td>\n",
       "      <td>-1074.464888</td>\n",
       "      <td>-66.052086</td>\n",
       "      <td>2.0</td>\n",
       "    </tr>\n",
       "    <tr>\n",
       "      <th>10-query</th>\n",
       "      <td>-80.497215</td>\n",
       "      <td>4.198283</td>\n",
       "      <td>22.420013</td>\n",
       "      <td>-135.29889</td>\n",
       "      <td>119.97193</td>\n",
       "      <td>-81.749275</td>\n",
       "      <td>-530.124724</td>\n",
       "      <td>117.829230</td>\n",
       "      <td>128.16780</td>\n",
       "      <td>129.974720</td>\n",
       "      <td>...</td>\n",
       "      <td>41.703710</td>\n",
       "      <td>-192.11499</td>\n",
       "      <td>149.374627</td>\n",
       "      <td>67.501175</td>\n",
       "      <td>32.233040</td>\n",
       "      <td>86.700900</td>\n",
       "      <td>121.77761</td>\n",
       "      <td>-640.529192</td>\n",
       "      <td>-60.236816</td>\n",
       "      <td>2.0</td>\n",
       "    </tr>\n",
       "  </tbody>\n",
       "</table>\n",
       "<p>5 rows × 73 columns</p>\n",
       "</div>"
      ],
      "text/plain": [
       "                  0          1          2          3          4          5  \\\n",
       "Id                                                                           \n",
       "0-query  -53.882748  17.971436 -42.117104 -183.93668  187.51749 -87.144930   \n",
       "1-query  -87.776370   6.806268 -32.054546 -177.26039  120.80333 -83.810590   \n",
       "5-query  -92.844185   2.975510 -61.760483 -171.67546  144.79837 -58.685143   \n",
       "7-query  -59.506752   7.959120  21.068153 -142.99788  128.15799 -92.496300   \n",
       "10-query -80.497215   4.198283  22.420013 -135.29889  119.97193 -81.749275   \n",
       "\n",
       "                   6           7          8           9  ...         63  \\\n",
       "Id                                                       ...              \n",
       "0-query  -347.360606   38.307602  109.08556   30.413513  ...  70.107360   \n",
       "1-query   -94.572749  -78.433090  124.91590  140.331070  ...   4.669178   \n",
       "5-query   104.112909   75.844580  118.33623   81.981125  ...  12.807585   \n",
       "7-query  -143.453758   10.710561  131.08679   71.491560  ...  49.263610   \n",
       "10-query -530.124724  117.829230  128.16780  129.974720  ...  41.703710   \n",
       "\n",
       "                 64          65         66         67         68         69  \\\n",
       "Id                                                                            \n",
       "0-query  -155.80257 -101.965943  65.903790  34.457500  62.642094  134.76360   \n",
       "1-query  -151.69771   -1.638704  68.170876  25.096191  89.974976  130.58963   \n",
       "5-query  -137.96362   86.282088  64.678535  64.527600  64.664440  126.91460   \n",
       "7-query  -203.78833 -101.989379  67.291770  44.437595  45.183838  150.28853   \n",
       "10-query -192.11499  149.374627  67.501175  32.233040  86.700900  121.77761   \n",
       "\n",
       "                   70         71  class  \n",
       "Id                                       \n",
       "0-query   -415.750254 -25.958572    2.0  \n",
       "1-query  -1035.092211 -51.276833    2.0  \n",
       "5-query   -800.428664 -30.197390    2.0  \n",
       "7-query  -1074.464888 -66.052086    2.0  \n",
       "10-query  -640.529192 -60.236816    2.0  \n",
       "\n",
       "[5 rows x 73 columns]"
      ]
     },
     "execution_count": 10,
     "metadata": {},
     "output_type": "execute_result"
    }
   ],
   "source": [
    "df_train.head()"
   ]
  },
  {
   "cell_type": "code",
   "execution_count": 11,
   "id": "476f9fad",
   "metadata": {},
   "outputs": [
    {
     "data": {
      "text/plain": [
       "(55.00777316093445, 0.0, 55.00777316093445)"
      ]
     },
     "execution_count": 11,
     "metadata": {},
     "output_type": "execute_result"
    }
   ],
   "source": [
    "start_time = dt.datetime.now().timestamp()\n",
    "vecs, idx = idx_l2.search(np.ascontiguousarray(df_train.values).astype('float32'), 50_000)\n",
    "time_spent = dt.datetime.now().timestamp() - start_time\n",
    "time_spent, time_spent // 60, time_spent % 60"
   ]
  },
  {
   "cell_type": "code",
   "execution_count": null,
   "id": "b36db92f",
   "metadata": {},
   "outputs": [],
   "source": [
    "acc = 0\n",
    "for target, el in zip(targets.values.tolist(), idx.tolist()):\n",
    "    acc += int(target in [base_index[r] for r in el])\n",
    "\n",
    "print(100 * acc / len(idx))"
   ]
  },
  {
   "cell_type": "code",
   "execution_count": null,
   "id": "a9c7fb7a",
   "metadata": {},
   "outputs": [],
   "source": []
  }
 ],
 "metadata": {
  "kernelspec": {
   "display_name": "Python 3 (ipykernel)",
   "language": "python",
   "name": "python3"
  },
  "language_info": {
   "codemirror_mode": {
    "name": "ipython",
    "version": 3
   },
   "file_extension": ".py",
   "mimetype": "text/x-python",
   "name": "python",
   "nbconvert_exporter": "python",
   "pygments_lexer": "ipython3",
   "version": "3.11.4"
  }
 },
 "nbformat": 4,
 "nbformat_minor": 5
}
